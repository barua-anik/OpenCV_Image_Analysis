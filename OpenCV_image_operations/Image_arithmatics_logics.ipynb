{
 "cells": [
  {
   "cell_type": "code",
   "execution_count": 1,
   "metadata": {
    "ExecuteTime": {
     "end_time": "2019-12-07T10:38:20.721656Z",
     "start_time": "2019-12-07T10:38:20.705697Z"
    }
   },
   "outputs": [
    {
     "data": {
      "text/plain": [
       "'\\nThis is a program on adding 2 images using OpenCV.\\n\\n'"
      ]
     },
     "execution_count": 1,
     "metadata": {},
     "output_type": "execute_result"
    }
   ],
   "source": [
    "\"\"\"\n",
    "This is a program on adding 2 images using OpenCV.\n",
    "\n",
    "\"\"\""
   ]
  },
  {
   "cell_type": "code",
   "execution_count": 2,
   "metadata": {
    "ExecuteTime": {
     "end_time": "2019-12-07T10:38:20.904166Z",
     "start_time": "2019-12-07T10:38:20.725646Z"
    }
   },
   "outputs": [],
   "source": [
    "# Importing the libraries \n",
    "\n",
    "import cv2\n",
    "import numpy as np"
   ]
  },
  {
   "cell_type": "code",
   "execution_count": 5,
   "metadata": {
    "ExecuteTime": {
     "end_time": "2019-12-07T10:38:45.315196Z",
     "start_time": "2019-12-07T10:38:45.292246Z"
    }
   },
   "outputs": [],
   "source": [
    "# Loading the images\n",
    "\n",
    "img1 = cv2.imread('image1.jpg')\n",
    "img2 = cv2.imread('image2.jpg')\n",
    "img3 = cv2.imread('image3.jpg')\n",
    "\n",
    "# Adding 2 image\n",
    "\n",
    "add1 = img1 + img2 # Way 1\n",
    "add2 = cv2.add(img1,img2) # Way 2 (here pixel values more than 255 is turned into 255, so its a bit white)\n",
    "add3 = cv2.addWeighted(img1, 0.5, img2, 0.4, 0) #it uses the percentage\n",
    "\n",
    "# Putting the image3(logo) in the image2\n",
    "# We will start by creating ROI (Region of Image)\n",
    "\n",
    "rows, cols, channels = img3.shape # Getting the rows and colomns ot logo image\n",
    "roi = img2[0:rows, 0:cols] # Selecting the same area in the image 2\n",
    "\n",
    "# Now we create a mask of the logo, and inverse the mask\n",
    "img2gray = cv2.cvtColor(img3, cv2.COLOR_BGR2GRAY)\n",
    "\n",
    "# Adding a threshold\n",
    "ret, mask = cv2.threshold(img2gray, 220, 225, cv2.THRESH_BINARY_INV)\n",
    "mask_inverse = cv2.bitwise_not(mask)\n",
    "\n",
    "# black out the area of logo in the image 2 ROI\n",
    "image2_bg = cv2.bitwise_and(roi, roi, mask = mask)\n",
    "\n",
    "# take the region from the logo \n",
    "image3_fg = cv2.bitwise_and(img3, img3, mask = mask)\n",
    "\n",
    "merged_image = cv2.add(image2_bg, image3_fg)\n",
    "img2[0:rows, 0:cols] = merged_image\n"
   ]
  },
  {
   "cell_type": "code",
   "execution_count": 6,
   "metadata": {
    "ExecuteTime": {
     "end_time": "2019-12-07T10:38:49.175945Z",
     "start_time": "2019-12-07T10:38:47.052944Z"
    }
   },
   "outputs": [],
   "source": [
    "cv2.imshow('add', add3)\n",
    "cv2.imshow('merge', img2)\n",
    "cv2.waitKey(0)\n",
    "cv2.destroyAllWindows()"
   ]
  },
  {
   "cell_type": "code",
   "execution_count": null,
   "metadata": {},
   "outputs": [],
   "source": []
  }
 ],
 "metadata": {
  "kernelspec": {
   "display_name": "Python 3",
   "language": "python",
   "name": "python3"
  },
  "language_info": {
   "codemirror_mode": {
    "name": "ipython",
    "version": 3
   },
   "file_extension": ".py",
   "mimetype": "text/x-python",
   "name": "python",
   "nbconvert_exporter": "python",
   "pygments_lexer": "ipython3",
   "version": "3.7.3"
  },
  "toc": {
   "base_numbering": 1,
   "nav_menu": {},
   "number_sections": true,
   "sideBar": true,
   "skip_h1_title": false,
   "title_cell": "Table of Contents",
   "title_sidebar": "Contents",
   "toc_cell": false,
   "toc_position": {},
   "toc_section_display": true,
   "toc_window_display": false
  },
  "varInspector": {
   "cols": {
    "lenName": 16,
    "lenType": 16,
    "lenVar": 40
   },
   "kernels_config": {
    "python": {
     "delete_cmd_postfix": "",
     "delete_cmd_prefix": "del ",
     "library": "var_list.py",
     "varRefreshCmd": "print(var_dic_list())"
    },
    "r": {
     "delete_cmd_postfix": ") ",
     "delete_cmd_prefix": "rm(",
     "library": "var_list.r",
     "varRefreshCmd": "cat(var_dic_list()) "
    }
   },
   "types_to_exclude": [
    "module",
    "function",
    "builtin_function_or_method",
    "instance",
    "_Feature"
   ],
   "window_display": false
  }
 },
 "nbformat": 4,
 "nbformat_minor": 2
}
