{
 "cells": [
  {
   "cell_type": "code",
   "execution_count": 1,
   "metadata": {
    "ExecuteTime": {
     "end_time": "2019-12-06T14:03:44.539263Z",
     "start_time": "2019-12-06T14:03:44.513330Z"
    }
   },
   "outputs": [],
   "source": [
    "# importing libraries\n",
    "\n",
    "import numpy as np\n",
    "import cv2"
   ]
  },
  {
   "cell_type": "code",
   "execution_count": 23,
   "metadata": {
    "ExecuteTime": {
     "end_time": "2019-12-06T14:30:28.880881Z",
     "start_time": "2019-12-06T14:30:26.434487Z"
    }
   },
   "outputs": [],
   "source": [
    "# Reading the images \n",
    "img = cv2.imread('car.jpg', cv2.IMREAD_COLOR)\n",
    "resized_img = cv2.resize(img, (600,350), interpolation = cv2.INTER_AREA)\n",
    "\n",
    "# Lets drar line, rectangle and circle in the image\n",
    "cv2.line(resized_img, (0,0), (600,350), (0,255,255), 10)\n",
    "cv2.line(resized_img, (0,350), (600,0), (0,255,255), 10)\n",
    "cv2.circle(resized_img, (300,175), 100, (255,255,0), 10)\n",
    "cv2.rectangle(resized_img, (50,30), (550,320), (100,100,100), 5)\n",
    "\n",
    "# Let's write some text\n",
    "font = cv2.FONT_ITALIC\n",
    "cv2.putText(resized_img, 'Just Do IT!', (150,50), font, 2, (100,200,200), 2, cv2.LINE_AA)\n",
    "\n",
    "cv2.imshow('image',resized_img)\n",
    "\n",
    "# Save the image\n",
    "cv2.imwrite('car_drawing.jpg', resized_img)\n",
    "\n",
    "cv2.waitKey(0)\n",
    "cv2.destroyAllWindows()"
   ]
  },
  {
   "cell_type": "code",
   "execution_count": null,
   "metadata": {},
   "outputs": [],
   "source": []
  }
 ],
 "metadata": {
  "kernelspec": {
   "display_name": "Python 3",
   "language": "python",
   "name": "python3"
  },
  "language_info": {
   "codemirror_mode": {
    "name": "ipython",
    "version": 3
   },
   "file_extension": ".py",
   "mimetype": "text/x-python",
   "name": "python",
   "nbconvert_exporter": "python",
   "pygments_lexer": "ipython3",
   "version": "3.7.3"
  },
  "toc": {
   "base_numbering": 1,
   "nav_menu": {},
   "number_sections": true,
   "sideBar": true,
   "skip_h1_title": false,
   "title_cell": "Table of Contents",
   "title_sidebar": "Contents",
   "toc_cell": false,
   "toc_position": {},
   "toc_section_display": true,
   "toc_window_display": false
  },
  "varInspector": {
   "cols": {
    "lenName": 16,
    "lenType": 16,
    "lenVar": 40
   },
   "kernels_config": {
    "python": {
     "delete_cmd_postfix": "",
     "delete_cmd_prefix": "del ",
     "library": "var_list.py",
     "varRefreshCmd": "print(var_dic_list())"
    },
    "r": {
     "delete_cmd_postfix": ") ",
     "delete_cmd_prefix": "rm(",
     "library": "var_list.r",
     "varRefreshCmd": "cat(var_dic_list()) "
    }
   },
   "types_to_exclude": [
    "module",
    "function",
    "builtin_function_or_method",
    "instance",
    "_Feature"
   ],
   "window_display": false
  }
 },
 "nbformat": 4,
 "nbformat_minor": 2
}
